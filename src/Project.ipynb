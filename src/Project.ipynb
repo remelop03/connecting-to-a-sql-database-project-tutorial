{
 "cells": [
  {
   "cell_type": "markdown",
   "id": "0f06aef7",
   "metadata": {},
   "source": [
    "### Connecting to a SQL Database Project"
   ]
  },
  {
   "cell_type": "code",
   "execution_count": 3,
   "id": "712d21b2",
   "metadata": {},
   "outputs": [],
   "source": [
    "import os\n",
    "import pandas as pd\n",
    "from sqlalchemy import create_engine, text\n",
    "from dotenv import load_dotenv"
   ]
  },
  {
   "cell_type": "markdown",
   "id": "b0552e28",
   "metadata": {},
   "source": [
    "#### Part 1: Install Dependencies"
   ]
  },
  {
   "cell_type": "markdown",
   "id": "aef33f3e",
   "metadata": {},
   "source": [
    "Run the command pip install -r requirements.txt"
   ]
  },
  {
   "cell_type": "markdown",
   "id": "5b095aa4",
   "metadata": {},
   "source": [
    "#### Part 2: Add Your Database Credentials"
   ]
  },
  {
   "cell_type": "markdown",
   "id": "ee814f89",
   "metadata": {},
   "source": [
    "DB_USER='remelop'\n",
    "DB_PASSWORD='Melo0316'\n",
    "DB_PORT= 3306\n",
    "DB_HOST='localhost'\n",
    "DB_NAME='exercise'"
   ]
  },
  {
   "cell_type": "markdown",
   "id": "8f0b1863",
   "metadata": {},
   "source": [
    "#### Part 3 : Create a Database Using PostgreSQL"
   ]
  },
  {
   "cell_type": "markdown",
   "id": "6b75950c",
   "metadata": {},
   "source": [
    "Make sure you have installed the Postgres client for the terminal called PSQL by running the following command:"
   ]
  },
  {
   "cell_type": "markdown",
   "id": "76a5d634",
   "metadata": {},
   "source": [
    "$ psql --version"
   ]
  },
  {
   "cell_type": "markdown",
   "id": "566d6331",
   "metadata": {},
   "source": [
    "1. Postgres is a database server, you have to start the server before you can use it. In order to stat postgres in your computer run the following command:"
   ]
  },
  {
   "cell_type": "markdown",
   "id": "6739d301",
   "metadata": {},
   "source": [
    "sudo service postgresql start"
   ]
  },
  {
   "cell_type": "markdown",
   "id": "73153b14",
   "metadata": {},
   "source": [
    "2. Create a new user to connect to your database:"
   ]
  },
  {
   "cell_type": "markdown",
   "id": "09530836",
   "metadata": {},
   "source": [
    "psql -U postgres -c \"CREATE USER remelop;\""
   ]
  },
  {
   "cell_type": "markdown",
   "id": "91c1e332",
   "metadata": {},
   "source": [
    "3. Create a new database within the Postgres engine by customizing and executing the following command:"
   ]
  },
  {
   "cell_type": "markdown",
   "id": "2cb576d0",
   "metadata": {},
   "source": [
    "psql -U postgres -c \"CREATE DATABASE exercise OWNER remelop;\""
   ]
  },
  {
   "cell_type": "markdown",
   "id": "9df12de5",
   "metadata": {},
   "source": [
    "4. Connect to the Postgres engine to use your database, manipulate tables and data:"
   ]
  },
  {
   "cell_type": "markdown",
   "id": "5e5c9f34",
   "metadata": {},
   "source": [
    "psql -h localhost -U remelop exercise"
   ]
  },
  {
   "cell_type": "markdown",
   "id": "cb71baf4",
   "metadata": {},
   "source": [
    "#### Part 4: Understand the structure of your project's template"
   ]
  },
  {
   "cell_type": "markdown",
   "id": "38da88b3",
   "metadata": {},
   "source": [
    "Once you have completed the above steps, you will have created your SQL database, but there are no tables yet. Next, you need to connect to your empty database, and you will create some tables using Python via SQL scripts that you will find in the ./src/sql/ folder."
   ]
  },
  {
   "cell_type": "code",
   "execution_count": null,
   "id": "96275b33",
   "metadata": {},
   "outputs": [],
   "source": []
  }
 ],
 "metadata": {
  "kernelspec": {
   "display_name": "Python 3",
   "language": "python",
   "name": "python3"
  },
  "language_info": {
   "codemirror_mode": {
    "name": "ipython",
    "version": 3
   },
   "file_extension": ".py",
   "mimetype": "text/x-python",
   "name": "python",
   "nbconvert_exporter": "python",
   "pygments_lexer": "ipython3",
   "version": "3.12.10"
  }
 },
 "nbformat": 4,
 "nbformat_minor": 5
}
