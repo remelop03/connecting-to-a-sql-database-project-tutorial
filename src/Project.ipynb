{
 "cells": [
  {
   "cell_type": "markdown",
   "id": "0f06aef7",
   "metadata": {},
   "source": [
    "### Connecting to a SQL Database Project"
   ]
  },
  {
   "cell_type": "code",
   "execution_count": 3,
   "id": "712d21b2",
   "metadata": {},
   "outputs": [],
   "source": [
    "import os\n",
    "import pandas as pd\n",
    "from sqlalchemy import create_engine, text\n",
    "from dotenv import load_dotenv"
   ]
  },
  {
   "cell_type": "markdown",
   "id": "b0552e28",
   "metadata": {},
   "source": [
    "#### Part 1: Install Dependencies"
   ]
  },
  {
   "cell_type": "markdown",
   "id": "aef33f3e",
   "metadata": {},
   "source": [
    "Run the command pip install -r requirements.txt"
   ]
  },
  {
   "cell_type": "markdown",
   "id": "5b095aa4",
   "metadata": {},
   "source": [
    "#### Part 2: Add Your Database Credentials"
   ]
  },
  {
   "cell_type": "markdown",
   "id": "ee814f89",
   "metadata": {},
   "source": [
    "DB_USER='remelop'\n",
    "DB_PASSWORD='Melo0316'\n",
    "DB_PORT= 3306\n",
    "DB_HOST='localhost'\n",
    "DB_NAME='exercise'"
   ]
  },
  {
   "cell_type": "markdown",
   "id": "8f0b1863",
   "metadata": {},
   "source": [
    "#### Part 3 : Create a Database Using PostgreSQL"
   ]
  },
  {
   "cell_type": "markdown",
   "id": "6b75950c",
   "metadata": {},
   "source": [
    "Make sure you have installed the Postgres client for the terminal called PSQL by running the following command:"
   ]
  },
  {
   "cell_type": "markdown",
   "id": "76a5d634",
   "metadata": {},
   "source": [
    "$ psql --version"
   ]
  },
  {
   "cell_type": "markdown",
   "id": "566d6331",
   "metadata": {},
   "source": [
    "1. Postgres is a database server, you have to start the server before you can use it. In order to stat postgres in your computer run the following command:"
   ]
  },
  {
   "cell_type": "markdown",
   "id": "6739d301",
   "metadata": {},
   "source": [
    "sudo service postgresql start"
   ]
  },
  {
   "cell_type": "markdown",
   "id": "73153b14",
   "metadata": {},
   "source": [
    "2. Create a new user to connect to your database:"
   ]
  },
  {
   "cell_type": "markdown",
   "id": "09530836",
   "metadata": {},
   "source": [
    "psql -U postgres -c \"CREATE USER remelop;\""
   ]
  },
  {
   "cell_type": "markdown",
   "id": "91c1e332",
   "metadata": {},
   "source": [
    "3. Create a new database within the Postgres engine by customizing and executing the following command:"
   ]
  },
  {
   "cell_type": "markdown",
   "id": "2cb576d0",
   "metadata": {},
   "source": [
    "psql -U postgres -c \"CREATE DATABASE exercise OWNER remelop;\""
   ]
  },
  {
   "cell_type": "markdown",
   "id": "9df12de5",
   "metadata": {},
   "source": [
    "4. Connect to the Postgres engine to use your database, manipulate tables and data:"
   ]
  },
  {
   "cell_type": "markdown",
   "id": "5e5c9f34",
   "metadata": {},
   "source": [
    "psql -h localhost -U remelop exercise"
   ]
  },
  {
   "cell_type": "markdown",
   "id": "cb71baf4",
   "metadata": {},
   "source": [
    "#### Part 4: Understand the structure of your project's template"
   ]
  },
  {
   "cell_type": "markdown",
   "id": "38da88b3",
   "metadata": {},
   "source": [
    "Once you have completed the above steps, you will have created your SQL database, but there are no tables yet. Next, you need to connect to your empty database, and you will create some tables using Python via SQL scripts that you will find in the ./src/sql/ folder."
   ]
  },
  {
   "cell_type": "markdown",
   "id": "f0e1dbe9",
   "metadata": {},
   "source": [
    "#### Part 5: Start programming"
   ]
  },
  {
   "cell_type": "markdown",
   "id": "ff355ed5",
   "metadata": {},
   "source": [
    "1) Connect to the database with SQLAlchemy"
   ]
  },
  {
   "cell_type": "code",
   "execution_count": 4,
   "id": "b5e6dd87",
   "metadata": {},
   "outputs": [
    {
     "data": {
      "text/plain": [
       "True"
      ]
     },
     "execution_count": 4,
     "metadata": {},
     "output_type": "execute_result"
    }
   ],
   "source": [
    "# Load environment variables\n",
    "load_dotenv()"
   ]
  },
  {
   "cell_type": "markdown",
   "id": "6637ca69",
   "metadata": {},
   "source": [
    "The connect function contains the code needed to connect to your Python database. If you look closely, you will see how it loads all the environment variables into a variable called connection_string and then calls the create_engine and connect functions."
   ]
  },
  {
   "cell_type": "code",
   "execution_count": 5,
   "id": "96275b33",
   "metadata": {},
   "outputs": [],
   "source": [
    "def connect():\n",
    "    global engine\n",
    "    try:\n",
    "        connection_string = f\"postgresql://{os.getenv('remelop')}:{os.getenv('Melo0316')}@{os.getenv('localhost')}/{os.getenv('exercise')}\"\n",
    "        print(\"Starting the connection...\")\n",
    "        engine = create_engine(connection_string, isolation_level=\"AUTOCOMMIT\")\n",
    "        engine.connect()\n",
    "        print(\"Connected successfully!\")\n",
    "        return engine\n",
    "    except Exception as e:\n",
    "        print(f\"Error connecting to the database: {e}\")\n",
    "        return None"
   ]
  },
  {
   "cell_type": "code",
   "execution_count": null,
   "id": "5533daf6",
   "metadata": {},
   "outputs": [
    {
     "name": "stdout",
     "output_type": "stream",
     "text": [
      "Starting the connection...\n",
      "Error connecting to the database: (psycopg2.OperationalError) could not translate host name \"None\" to address: Name or service not known\n",
      "\n",
      "(Background on this error at: https://sqlalche.me/e/20/e3q8)\n"
     ]
    },
    {
     "ename": "",
     "evalue": "",
     "output_type": "error",
     "traceback": [
      "\u001b[1;31mEl kernel se bloqueó al ejecutar código en la celda actual o en una celda anterior. \n",
      "\u001b[1;31mRevise el código de las celdas para identificar una posible causa del error. \n",
      "\u001b[1;31mHaga clic <a href='https://aka.ms/vscodeJupyterKernelCrash'>aquí</a> para obtener más información. \n",
      "\u001b[1;31mVea Jupyter <a href='command:jupyter.viewOutput'>log</a> para obtener más detalles."
     ]
    }
   ],
   "source": [
    "engine = connect()\n",
    "\n",
    "if engine is None:\n",
    "    exit() \n"
   ]
  },
  {
   "cell_type": "markdown",
   "id": "53a0510d",
   "metadata": {},
   "source": [
    "2) Create the tables"
   ]
  },
  {
   "cell_type": "code",
   "execution_count": 11,
   "id": "90b8f003",
   "metadata": {},
   "outputs": [
    {
     "ename": "AttributeError",
     "evalue": "'NoneType' object has no attribute 'connect'",
     "output_type": "error",
     "traceback": [
      "\u001b[31m---------------------------------------------------------------------------\u001b[39m",
      "\u001b[31mAttributeError\u001b[39m                            Traceback (most recent call last)",
      "\u001b[36mCell\u001b[39m\u001b[36m \u001b[39m\u001b[32mIn[11]\u001b[39m\u001b[32m, line 1\u001b[39m\n\u001b[32m----> \u001b[39m\u001b[32m1\u001b[39m \u001b[38;5;28;01mwith\u001b[39;00m \u001b[43mengine\u001b[49m\u001b[43m.\u001b[49m\u001b[43mconnect\u001b[49m() \u001b[38;5;28;01mas\u001b[39;00m connection:\n\u001b[32m      2\u001b[39m     connection.execute(text(\u001b[33m\"\"\"\u001b[39m\n\u001b[32m      3\u001b[39m \u001b[33m    CREATE TABLE IF NOT EXISTS publishers (\u001b[39m\n\u001b[32m      4\u001b[39m \u001b[33m        publisher_id SERIAL PRIMARY KEY,\u001b[39m\n\u001b[32m   (...)\u001b[39m\u001b[32m     32\u001b[39m \u001b[33m    );\u001b[39m\n\u001b[32m     33\u001b[39m \u001b[33m    \u001b[39m\u001b[33m\"\"\"\u001b[39m))\n",
      "\u001b[31mAttributeError\u001b[39m: 'NoneType' object has no attribute 'connect'"
     ]
    }
   ],
   "source": [
    "with engine.connect() as connection:\n",
    "    connection.execute(text(\"\"\"\n",
    "    CREATE TABLE IF NOT EXISTS publishers (\n",
    "        publisher_id SERIAL PRIMARY KEY,\n",
    "        name VARCHAR(255) NOT NULL\n",
    "    );\n",
    "\n",
    "    CREATE TABLE IF NOT EXISTS authors (\n",
    "        author_id SERIAL PRIMARY KEY,\n",
    "        first_name VARCHAR(100) NOT NULL,\n",
    "        middle_name VARCHAR(50) NULL,\n",
    "        last_name VARCHAR(100) NULL\n",
    "    );\n",
    "\n",
    "    CREATE TABLE IF NOT EXISTS books (\n",
    "        book_id SERIAL PRIMARY KEY,\n",
    "        title VARCHAR(255) NOT NULL,\n",
    "        total_pages INT NULL,\n",
    "        rating DECIMAL(4, 2) NULL,\n",
    "        isbn VARCHAR(13) NULL,\n",
    "        published_date DATE,\n",
    "        publisher_id INT NULL,\n",
    "        CONSTRAINT fk_publisher FOREIGN KEY (publisher_id) REFERENCES publishers(publisher_id) ON DELETE SET NULL\n",
    "    );\n",
    "\n",
    "    CREATE TABLE IF NOT EXISTS book_authors (\n",
    "        book_id INT NOT NULL,\n",
    "        author_id INT NOT NULL,\n",
    "        PRIMARY KEY (book_id, author_id),\n",
    "        CONSTRAINT fk_book FOREIGN KEY (book_id) REFERENCES books(book_id) ON DELETE CASCADE,\n",
    "        CONSTRAINT fk_author FOREIGN KEY (author_id) REFERENCES authors(author_id) ON DELETE CASCADE\n",
    "    );\n",
    "    \"\"\"))"
   ]
  },
  {
   "cell_type": "markdown",
   "id": "f985c4df",
   "metadata": {},
   "source": [
    "3) Insert data"
   ]
  },
  {
   "cell_type": "code",
   "execution_count": 1,
   "id": "ac48b3e2",
   "metadata": {},
   "outputs": [
    {
     "ename": "NameError",
     "evalue": "name 'engine' is not defined",
     "output_type": "error",
     "traceback": [
      "\u001b[31m---------------------------------------------------------------------------\u001b[39m",
      "\u001b[31mNameError\u001b[39m                                 Traceback (most recent call last)",
      "\u001b[36mCell\u001b[39m\u001b[36m \u001b[39m\u001b[32mIn[1]\u001b[39m\u001b[32m, line 1\u001b[39m\n\u001b[32m----> \u001b[39m\u001b[32m1\u001b[39m \u001b[38;5;28;01mwith\u001b[39;00m \u001b[43mengine\u001b[49m.connect() \u001b[38;5;28;01mas\u001b[39;00m connection:\n\u001b[32m      2\u001b[39m     connection.execute(text(\u001b[33m\"\"\"\u001b[39m\n\u001b[32m      3\u001b[39m \u001b[33m    INSERT INTO publishers (publisher_id, name) VALUES\u001b[39m\n\u001b[32m      4\u001b[39m \u001b[33m        (1, \u001b[39m\u001b[33m'\u001b[39m\u001b[33mO Reilly Media\u001b[39m\u001b[33m'\u001b[39m\u001b[33m),\u001b[39m\n\u001b[32m   (...)\u001b[39m\u001b[32m     22\u001b[39m \u001b[33m    ON CONFLICT (author_id) DO NOTHING;\u001b[39m\n\u001b[32m     23\u001b[39m \u001b[33m    \u001b[39m\u001b[33m\"\"\"\u001b[39m))\n",
      "\u001b[31mNameError\u001b[39m: name 'engine' is not defined"
     ]
    }
   ],
   "source": [
    "with engine.connect() as connection:\n",
    "    connection.execute(text(\"\"\"\n",
    "    INSERT INTO publishers (publisher_id, name) VALUES\n",
    "        (1, 'O Reilly Media'),\n",
    "        (2, 'A Book Apart'),\n",
    "        (3, 'A K PETERS'),\n",
    "        (4, 'Academic Press'),\n",
    "        (5, 'Addison Wesley'),\n",
    "        (6, 'Albert&Sweigart'),\n",
    "        (7, 'Alfred A. Knopf')\n",
    "    ON CONFLICT (publisher_id) DO NOTHING;\n",
    "\n",
    "    INSERT INTO authors (author_id, first_name, middle_name, last_name) VALUES\n",
    "        (1, 'Merritt', NULL, 'Eric'),\n",
    "        (2, 'Linda', NULL, 'Mui'),\n",
    "        (3, 'Alecos', NULL, 'Papadatos'),\n",
    "        (4, 'Anthony', NULL, 'Molinaro'),\n",
    "        (5, 'David', NULL, 'Cronin'),\n",
    "        (6, 'Richard', NULL, 'Blum'),\n",
    "        (7, 'Yuval', 'Noah', 'Harari'),\n",
    "        (8, 'Paul', NULL, 'Albitz')\n",
    "    ON CONFLICT (author_id) DO NOTHING;\n",
    "    \"\"\"))"
   ]
  },
  {
   "cell_type": "markdown",
   "id": "3b795244",
   "metadata": {},
   "source": [
    "4) Use Pandas to read and display a table"
   ]
  },
  {
   "cell_type": "code",
   "execution_count": 2,
   "id": "63f1ae0c",
   "metadata": {},
   "outputs": [
    {
     "ename": "NameError",
     "evalue": "name 'pd' is not defined",
     "output_type": "error",
     "traceback": [
      "\u001b[31m---------------------------------------------------------------------------\u001b[39m",
      "\u001b[31mNameError\u001b[39m                                 Traceback (most recent call last)",
      "\u001b[36mCell\u001b[39m\u001b[36m \u001b[39m\u001b[32mIn[2]\u001b[39m\u001b[32m, line 1\u001b[39m\n\u001b[32m----> \u001b[39m\u001b[32m1\u001b[39m df = \u001b[43mpd\u001b[49m.read_sql(\u001b[33m\"\u001b[39m\u001b[33mSELECT * FROM publishers;\u001b[39m\u001b[33m\"\u001b[39m, engine)\n\u001b[32m      2\u001b[39m \u001b[38;5;28mprint\u001b[39m(df)\n",
      "\u001b[31mNameError\u001b[39m: name 'pd' is not defined"
     ]
    }
   ],
   "source": [
    "df = pd.read_sql(\"SELECT * FROM publishers;\", engine)\n",
    "print(df)"
   ]
  }
 ],
 "metadata": {
  "kernelspec": {
   "display_name": "Python 3",
   "language": "python",
   "name": "python3"
  },
  "language_info": {
   "codemirror_mode": {
    "name": "ipython",
    "version": 3
   },
   "file_extension": ".py",
   "mimetype": "text/x-python",
   "name": "python",
   "nbconvert_exporter": "python",
   "pygments_lexer": "ipython3",
   "version": "3.12.10"
  }
 },
 "nbformat": 4,
 "nbformat_minor": 5
}
